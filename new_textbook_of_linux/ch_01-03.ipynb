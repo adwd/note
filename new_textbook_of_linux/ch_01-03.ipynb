{
 "cells": [
  {
   "cell_type": "code",
   "execution_count": 1,
   "metadata": {
    "collapsed": false
   },
   "outputs": [
    {
     "name": "stdout",
     "output_type": "stream",
     "text": [
      "/Users/adwd/work/linux/new_text_of_linux\r\n"
     ]
    }
   ],
   "source": [
    "!pwd"
   ]
  },
  {
   "cell_type": "code",
   "execution_count": 2,
   "metadata": {
    "collapsed": false
   },
   "outputs": [
    {
     "name": "stdout",
     "output_type": "stream",
     "text": [
      "2017年 1月14日 土曜日 21時48分42秒 JST\r\n"
     ]
    }
   ],
   "source": [
    "!date"
   ]
  },
  {
   "cell_type": "code",
   "execution_count": 3,
   "metadata": {
    "collapsed": false
   },
   "outputs": [
    {
     "name": "stdout",
     "output_type": "stream",
     "text": [
      "Hello\r\n"
     ]
    }
   ],
   "source": [
    "!echo Hello"
   ]
  },
  {
   "cell_type": "code",
   "execution_count": 5,
   "metadata": {
    "collapsed": false
   },
   "outputs": [],
   "source": [
    "# シェルはLinuxカーネルのインターフェース。カーネルと分離しているのでシェルを変更したり、\n",
    "# 異なるLinuxカーネルに共通のシェルを移植したり、シェルがクラッシュしてもカーネルに影響しないなどの利点がある。"
   ]
  },
  {
   "cell_type": "code",
   "execution_count": 6,
   "metadata": {
    "collapsed": false
   },
   "outputs": [
    {
     "name": "stdout",
     "output_type": "stream",
     "text": [
      "/usr/local/bin/fish\r\n"
     ]
    }
   ],
   "source": [
    "!echo $SHELL"
   ]
  },
  {
   "cell_type": "code",
   "execution_count": 7,
   "metadata": {
    "collapsed": false
   },
   "outputs": [
    {
     "name": "stdout",
     "output_type": "stream",
     "text": [
      "# List of acceptable shells for chpass(1).\r\n",
      "# Ftpd will not allow users to connect who are not using\r\n",
      "# one of these shells.\r\n",
      "\r\n",
      "/bin/bash\r\n",
      "/bin/csh\r\n",
      "/bin/ksh\r\n",
      "/bin/sh\r\n",
      "/bin/tcsh\r\n",
      "/bin/zsh\r\n",
      "/usr/local/bin/fish\r\n"
     ]
    }
   ],
   "source": [
    "!cat /etc/shells"
   ]
  },
  {
   "cell_type": "code",
   "execution_count": null,
   "metadata": {
    "collapsed": false
   },
   "outputs": [
    {
     "name": "stdout",
     "output_type": "stream",
     "text": [
      "sh-3.2$ "
     ]
    }
   ],
   "source": [
    "!sh"
   ]
  },
  {
   "cell_type": "code",
   "execution_count": null,
   "metadata": {
    "collapsed": true
   },
   "outputs": [],
   "source": [
    "!exit"
   ]
  },
  {
   "cell_type": "code",
   "execution_count": null,
   "metadata": {
    "collapsed": true
   },
   "outputs": [],
   "source": [
    "!bash"
   ]
  },
  {
   "cell_type": "code",
   "execution_count": null,
   "metadata": {
    "collapsed": true
   },
   "outputs": [],
   "source": [
    "!exit"
   ]
  },
  {
   "cell_type": "code",
   "execution_count": null,
   "metadata": {
    "collapsed": true
   },
   "outputs": [],
   "source": [
    "# ターミナルとシェルは異なる。\n",
    "# ターミナル: iTerm2, Tera Term, GNOME Terminal\n",
    "# シェル: sh, bash, zsh, fish"
   ]
  },
  {
   "cell_type": "code",
   "execution_count": null,
   "metadata": {
    "collapsed": true
   },
   "outputs": [],
   "source": [
    "# C-b/f 1文字前後に移動\n",
    "# C-a/e 行頭/行末に移動\n",
    "# M-b/f 単語単位で前後に移動\n",
    "\n",
    "# C-h BackSpace\n",
    "# C-d Delete\n",
    "# C-w 単語を削除\n",
    "\n",
    "# C-k 行末までカット\n",
    "# C-u 行頭までカット\n",
    "# C-y ヤンク"
   ]
  },
  {
   "cell_type": "code",
   "execution_count": null,
   "metadata": {
    "collapsed": true
   },
   "outputs": [],
   "source": [
    "# C-s,q 画面表示をロック、解除\n",
    "# C-c 実行中のコマンドを強制終了\n",
    "# C-l 表示をクリア"
   ]
  },
  {
   "cell_type": "code",
   "execution_count": null,
   "metadata": {
    "collapsed": true
   },
   "outputs": [],
   "source": [
    "!reset"
   ]
  },
  {
   "cell_type": "code",
   "execution_count": null,
   "metadata": {
    "collapsed": true
   },
   "outputs": [],
   "source": [
    "# Tabで入力補完"
   ]
  },
  {
   "cell_type": "code",
   "execution_count": null,
   "metadata": {
    "collapsed": true
   },
   "outputs": [],
   "source": [
    "# C-p,n コマンドヒストリーを前後に移動\n",
    "# C-r ヒストリーをインクリメンタル検索\n",
    "## C-r 一つ前の検索結果へ移動\n",
    "## Esc 検索結果を表示したまま戻る\n",
    "## C-g 検索を破棄して戻る"
   ]
  }
 ],
 "metadata": {
  "anaconda-cloud": {},
  "kernelspec": {
   "display_name": "Python [default]",
   "language": "python",
   "name": "python3"
  },
  "language_info": {
   "codemirror_mode": {
    "name": "ipython",
    "version": 3
   },
   "file_extension": ".py",
   "mimetype": "text/x-python",
   "name": "python",
   "nbconvert_exporter": "python",
   "pygments_lexer": "ipython3",
   "version": "3.5.2"
  }
 },
 "nbformat": 4,
 "nbformat_minor": 1
}
