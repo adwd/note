{
 "cells": [
  {
   "cell_type": "code",
   "execution_count": 1,
   "metadata": {
    "collapsed": false
   },
   "outputs": [
    {
     "name": "stdout",
     "output_type": "stream",
     "text": [
      "/Users/adwd/work/note/new_textbook_of_linux\r\n"
     ]
    }
   ],
   "source": [
    "!pwd"
   ]
  },
  {
   "cell_type": "code",
   "execution_count": 2,
   "metadata": {
    "collapsed": true
   },
   "outputs": [],
   "source": [
    "!mkdir work"
   ]
  },
  {
   "cell_type": "code",
   "execution_count": 3,
   "metadata": {
    "collapsed": false
   },
   "outputs": [
    {
     "name": "stdout",
     "output_type": "stream",
     "text": [
      "README.md       ch_01-03.ipynb  ch_04.ipynb     ch_05.ipynb     \u001b[34mwork\u001b[m\u001b[m/\r\n"
     ]
    }
   ],
   "source": [
    "!ls -F"
   ]
  },
  {
   "cell_type": "code",
   "execution_count": 7,
   "metadata": {
    "collapsed": false
   },
   "outputs": [
    {
     "name": "stdout",
     "output_type": "stream",
     "text": [
      "mkdir: work: File exists\r\n"
     ]
    }
   ],
   "source": [
    "!mkdir work"
   ]
  },
  {
   "cell_type": "code",
   "execution_count": 8,
   "metadata": {
    "collapsed": false
   },
   "outputs": [
    {
     "name": "stdout",
     "output_type": "stream",
     "text": [
      "mkdir: work/tmp: No such file or directory\r\n"
     ]
    }
   ],
   "source": [
    "!mkdir work/tmp/1"
   ]
  },
  {
   "cell_type": "code",
   "execution_count": 9,
   "metadata": {
    "collapsed": true
   },
   "outputs": [],
   "source": [
    "!mkdir -p work/tmp/1"
   ]
  },
  {
   "cell_type": "code",
   "execution_count": 10,
   "metadata": {
    "collapsed": false
   },
   "outputs": [
    {
     "name": "stdout",
     "output_type": "stream",
     "text": [
      "README.md      ch_01-03.ipynb ch_04.ipynb    ch_05.ipynb    \u001b[34mwork\u001b[m\u001b[m\r\n"
     ]
    }
   ],
   "source": [
    "!ls"
   ]
  },
  {
   "cell_type": "code",
   "execution_count": 11,
   "metadata": {
    "collapsed": true
   },
   "outputs": [],
   "source": [
    "!touch newfile"
   ]
  },
  {
   "cell_type": "code",
   "execution_count": 12,
   "metadata": {
    "collapsed": false
   },
   "outputs": [
    {
     "name": "stdout",
     "output_type": "stream",
     "text": [
      "README.md      ch_04.ipynb    newfile\r\n",
      "ch_01-03.ipynb ch_05.ipynb    \u001b[34mwork\u001b[m\u001b[m\r\n"
     ]
    }
   ],
   "source": [
    "!ls"
   ]
  },
  {
   "cell_type": "code",
   "execution_count": 13,
   "metadata": {
    "collapsed": true
   },
   "outputs": [],
   "source": [
    "!rm newfile"
   ]
  },
  {
   "cell_type": "code",
   "execution_count": 14,
   "metadata": {
    "collapsed": false
   },
   "outputs": [
    {
     "name": "stdout",
     "output_type": "stream",
     "text": [
      "README.md      ch_01-03.ipynb ch_04.ipynb    ch_05.ipynb    \u001b[34mwork\u001b[m\u001b[m\r\n"
     ]
    }
   ],
   "source": [
    "!ls"
   ]
  },
  {
   "cell_type": "code",
   "execution_count": 15,
   "metadata": {
    "collapsed": true
   },
   "outputs": [],
   "source": [
    "!touch f1 f2 f3"
   ]
  },
  {
   "cell_type": "code",
   "execution_count": 16,
   "metadata": {
    "collapsed": false
   },
   "outputs": [
    {
     "name": "stdout",
     "output_type": "stream",
     "text": [
      "README.md      ch_04.ipynb    f1             f3\r\n",
      "ch_01-03.ipynb ch_05.ipynb    f2             \u001b[34mwork\u001b[m\u001b[m\r\n"
     ]
    }
   ],
   "source": [
    "!ls"
   ]
  },
  {
   "cell_type": "code",
   "execution_count": 17,
   "metadata": {
    "collapsed": true
   },
   "outputs": [],
   "source": [
    "!rm f1 f2 f3"
   ]
  },
  {
   "cell_type": "code",
   "execution_count": 18,
   "metadata": {
    "collapsed": false
   },
   "outputs": [
    {
     "name": "stdout",
     "output_type": "stream",
     "text": [
      "README.md      ch_01-03.ipynb ch_04.ipynb    ch_05.ipynb    \u001b[34mwork\u001b[m\u001b[m\r\n"
     ]
    }
   ],
   "source": [
    "!ls"
   ]
  },
  {
   "cell_type": "code",
   "execution_count": 19,
   "metadata": {
    "collapsed": false
   },
   "outputs": [
    {
     "name": "stdout",
     "output_type": "stream",
     "text": [
      "rm: *.html: No such file or directory\r\n"
     ]
    }
   ],
   "source": [
    "!rm *.html"
   ]
  },
  {
   "cell_type": "code",
   "execution_count": 20,
   "metadata": {
    "collapsed": true
   },
   "outputs": [],
   "source": [
    "!mkdir dir1"
   ]
  },
  {
   "cell_type": "code",
   "execution_count": 21,
   "metadata": {
    "collapsed": false
   },
   "outputs": [
    {
     "name": "stdout",
     "output_type": "stream",
     "text": [
      "README.md      ch_04.ipynb    \u001b[34mdir1\u001b[m\u001b[m\r\n",
      "ch_01-03.ipynb ch_05.ipynb    \u001b[34mwork\u001b[m\u001b[m\r\n"
     ]
    }
   ],
   "source": [
    "!ls"
   ]
  },
  {
   "cell_type": "code",
   "execution_count": 22,
   "metadata": {
    "collapsed": false
   },
   "outputs": [
    {
     "name": "stdout",
     "output_type": "stream",
     "text": [
      "rm: dir1: is a directory\r\n"
     ]
    }
   ],
   "source": [
    "!rm dir1"
   ]
  },
  {
   "cell_type": "code",
   "execution_count": 24,
   "metadata": {
    "collapsed": false
   },
   "outputs": [],
   "source": [
    "!touch dir1/f1 dir1/f2 dir1/f3"
   ]
  },
  {
   "cell_type": "code",
   "execution_count": 25,
   "metadata": {
    "collapsed": false
   },
   "outputs": [
    {
     "name": "stdout",
     "output_type": "stream",
     "text": [
      "README.md      ch_04.ipynb    \u001b[34mdir1\u001b[m\u001b[m\r\n",
      "ch_01-03.ipynb ch_05.ipynb    \u001b[34mwork\u001b[m\u001b[m\r\n"
     ]
    }
   ],
   "source": [
    "!ls"
   ]
  },
  {
   "cell_type": "code",
   "execution_count": 29,
   "metadata": {
    "collapsed": false
   },
   "outputs": [],
   "source": [
    "!rm -r dir1"
   ]
  },
  {
   "cell_type": "code",
   "execution_count": 30,
   "metadata": {
    "collapsed": false
   },
   "outputs": [
    {
     "name": "stdout",
     "output_type": "stream",
     "text": [
      "README.md      ch_01-03.ipynb ch_04.ipynb    ch_05.ipynb    \u001b[34mwork\u001b[m\u001b[m\r\n"
     ]
    }
   ],
   "source": [
    "!ls"
   ]
  },
  {
   "cell_type": "code",
   "execution_count": 31,
   "metadata": {
    "collapsed": true
   },
   "outputs": [],
   "source": [
    "!mkdir dir1\n",
    "!touch dir1/f1 dir1/f2 dir1/f3"
   ]
  },
  {
   "cell_type": "code",
   "execution_count": 32,
   "metadata": {
    "collapsed": false
   },
   "outputs": [
    {
     "name": "stdout",
     "output_type": "stream",
     "text": [
      "rmdir: dir1: Directory not empty\r\n"
     ]
    }
   ],
   "source": [
    "!rmdir dir1"
   ]
  },
  {
   "cell_type": "code",
   "execution_count": 35,
   "metadata": {
    "collapsed": false
   },
   "outputs": [
    {
     "name": "stdout",
     "output_type": "stream",
     "text": [
      "##\r\n",
      "# Host Database\r\n",
      "#\r\n",
      "# localhost is used to configure the loopback interface\r\n",
      "# when the system is booting.  Do not change this entry.\r\n",
      "##\r\n",
      "127.0.0.1\tlocalhost\r\n",
      "255.255.255.255\tbroadcasthost\r\n",
      "::1             localhost \r\n"
     ]
    }
   ],
   "source": [
    "!cat /etc/hosts"
   ]
  },
  {
   "cell_type": "code",
   "execution_count": 36,
   "metadata": {
    "collapsed": false
   },
   "outputs": [
    {
     "name": "stdout",
     "output_type": "stream",
     "text": [
      "##\r\n",
      "# Host Database\r\n",
      "#\r\n",
      "# localhost is used to configure the loopback interface\r\n",
      "# when the system is booting.  Do not change this entry.\r\n",
      "##\r\n",
      "127.0.0.1\tlocalhost\r\n",
      "255.255.255.255\tbroadcasthost\r\n",
      "::1             localhost \r\n",
      "# Correctly display UTF-8 with combining characters.\r\n",
      "if [ \"$TERM_PROGRAM\" = \"Apple_Terminal\" ]; then\r\n",
      "\tsetopt combiningchars\r\n",
      "fi\r\n",
      "\r\n",
      "disable log\r\n"
     ]
    }
   ],
   "source": [
    "!cat /etc/hosts /etc/zshrc"
   ]
  },
  {
   "cell_type": "code",
   "execution_count": null,
   "metadata": {
    "collapsed": false
   },
   "outputs": [
    {
     "name": "stdout",
     "output_type": "stream",
     "text": [
      "\u001b7\u001b[?47h\u001b[?1h\u001b=\r",
      "# Correctly display UTF-8 with combining characters.\r\n",
      "if [ \"$TERM_PROGRAM\" = \"Apple_Terminal\" ]; then\r\n",
      "        setopt combiningchars\r\n",
      "fi\r\n",
      "\r\n",
      "disable log\r\n",
      "\u001b[7m/etc/zshrc (END)\u001b[m\u001b[K"
     ]
    }
   ],
   "source": [
    "!less /etc/zshrc"
   ]
  },
  {
   "cell_type": "code",
   "execution_count": null,
   "metadata": {
    "collapsed": true
   },
   "outputs": [],
   "source": [
    "'''\n",
    "space, f, C-v 1画面下にスクロール\n",
    "b, M-v 1画面下にスクロール\n",
    "j, C-n Enter 1行下にスクロール\n",
    "k, C-p 1行上にスクロール\n",
    "q lessを終了\n",
    "'''"
   ]
  },
  {
   "cell_type": "code",
   "execution_count": null,
   "metadata": {
    "collapsed": true
   },
   "outputs": [],
   "source": [
    "'''\n",
    "lessを実行中\n",
    "/<文字列> 下方向に向かって検索\n",
    "?<文字列> 上方向に向かって検索\n",
    "n 次の検索結果に移動\n",
    "N 前の検索結果に移動\n",
    "'''\n"
   ]
  },
  {
   "cell_type": "code",
   "execution_count": 1,
   "metadata": {
    "collapsed": true
   },
   "outputs": [],
   "source": [
    "!cp dir1/f1 dir1/f4"
   ]
  },
  {
   "cell_type": "code",
   "execution_count": 3,
   "metadata": {
    "collapsed": false
   },
   "outputs": [
    {
     "name": "stdout",
     "output_type": "stream",
     "text": [
      "f1 f2 f3 f4\r\n"
     ]
    }
   ],
   "source": [
    "!ls dir1"
   ]
  },
  {
   "cell_type": "code",
   "execution_count": 4,
   "metadata": {
    "collapsed": true
   },
   "outputs": [],
   "source": [
    "!mkdir dir2"
   ]
  },
  {
   "cell_type": "code",
   "execution_count": 5,
   "metadata": {
    "collapsed": true
   },
   "outputs": [],
   "source": [
    "!cp dir1/f1 dir1/f2 dir2"
   ]
  },
  {
   "cell_type": "code",
   "execution_count": 6,
   "metadata": {
    "collapsed": false
   },
   "outputs": [
    {
     "name": "stdout",
     "output_type": "stream",
     "text": [
      "f1 f2\r\n"
     ]
    }
   ],
   "source": [
    "!ls dir2"
   ]
  },
  {
   "cell_type": "code",
   "execution_count": 7,
   "metadata": {
    "collapsed": false
   },
   "outputs": [
    {
     "name": "stdout",
     "output_type": "stream",
     "text": [
      "cp: dir2 is a directory (not copied).\r\n"
     ]
    }
   ],
   "source": [
    "!cp dir2 dir3"
   ]
  },
  {
   "cell_type": "code",
   "execution_count": 8,
   "metadata": {
    "collapsed": true
   },
   "outputs": [],
   "source": [
    "!cp -r dir2 dir3"
   ]
  },
  {
   "cell_type": "code",
   "execution_count": 9,
   "metadata": {
    "collapsed": false
   },
   "outputs": [
    {
     "name": "stdout",
     "output_type": "stream",
     "text": [
      "f1 f2\r\n"
     ]
    }
   ],
   "source": [
    "!ls dir3"
   ]
  },
  {
   "cell_type": "code",
   "execution_count": 10,
   "metadata": {
    "collapsed": true
   },
   "outputs": [],
   "source": [
    "!mv dir2 dir3"
   ]
  },
  {
   "cell_type": "code",
   "execution_count": 12,
   "metadata": {
    "collapsed": false
   },
   "outputs": [
    {
     "name": "stdout",
     "output_type": "stream",
     "text": [
      "\u001b[34mdir2\u001b[m\u001b[m f1   f2\r\n"
     ]
    }
   ],
   "source": [
    "!ls dir3"
   ]
  },
  {
   "cell_type": "code",
   "execution_count": 13,
   "metadata": {
    "collapsed": false
   },
   "outputs": [
    {
     "name": "stdout",
     "output_type": "stream",
     "text": [
      "README.md      ch_04.ipynb    \u001b[34mdir1\u001b[m\u001b[m           f1\r\n",
      "ch_01-03.ipynb ch_05.ipynb    \u001b[34mdir3\u001b[m\u001b[m           \u001b[34mwork\u001b[m\u001b[m\r\n"
     ]
    }
   ],
   "source": [
    "!ls"
   ]
  },
  {
   "cell_type": "code",
   "execution_count": 14,
   "metadata": {
    "collapsed": true
   },
   "outputs": [],
   "source": [
    "!ln f1 f2"
   ]
  },
  {
   "cell_type": "code",
   "execution_count": 16,
   "metadata": {
    "collapsed": false
   },
   "outputs": [
    {
     "name": "stdout",
     "output_type": "stream",
     "text": [
      "total 96\r\n",
      "-rw-r--r--  1 adwd  staff     29  1 14 23:23 README.md\r\n",
      "-rw-r--r--  1 adwd  staff   5200  1 14 23:02 ch_01-03.ipynb\r\n",
      "-rw-r--r--  1 adwd  staff   8910  1 14 23:09 ch_04.ipynb\r\n",
      "-rw-r--r--  1 adwd  staff  12342  1 15 18:43 ch_05.ipynb\r\n",
      "drwxr-xr-x  6 adwd  staff    204  1 15 16:59 \u001b[34mdir1\u001b[m\u001b[m\r\n",
      "drwxr-xr-x  5 adwd  staff    170  1 15 18:42 \u001b[34mdir3\u001b[m\u001b[m\r\n",
      "-rw-r--r--  2 adwd  staff      6  1 15 18:56 f1\r\n",
      "-rw-r--r--  2 adwd  staff      6  1 15 18:56 f2\r\n",
      "drwxr-xr-x  3 adwd  staff    102  1 15 15:43 \u001b[34mwork\u001b[m\u001b[m\r\n"
     ]
    }
   ],
   "source": [
    "!ls -l"
   ]
  },
  {
   "cell_type": "code",
   "execution_count": 17,
   "metadata": {
    "collapsed": true
   },
   "outputs": [],
   "source": [
    "!rm f1"
   ]
  },
  {
   "cell_type": "code",
   "execution_count": 18,
   "metadata": {
    "collapsed": false
   },
   "outputs": [
    {
     "name": "stdout",
     "output_type": "stream",
     "text": [
      "total 88\r\n",
      "-rw-r--r--  1 adwd  staff     29  1 14 23:23 README.md\r\n",
      "-rw-r--r--  1 adwd  staff   5200  1 14 23:02 ch_01-03.ipynb\r\n",
      "-rw-r--r--  1 adwd  staff   8910  1 14 23:09 ch_04.ipynb\r\n",
      "-rw-r--r--  1 adwd  staff  12342  1 15 18:43 ch_05.ipynb\r\n",
      "drwxr-xr-x  6 adwd  staff    204  1 15 16:59 \u001b[34mdir1\u001b[m\u001b[m\r\n",
      "drwxr-xr-x  5 adwd  staff    170  1 15 18:42 \u001b[34mdir3\u001b[m\u001b[m\r\n",
      "-rw-r--r--  1 adwd  staff      6  1 15 18:56 f2\r\n",
      "drwxr-xr-x  3 adwd  staff    102  1 15 15:43 \u001b[34mwork\u001b[m\u001b[m\r\n"
     ]
    }
   ],
   "source": [
    "!ls -l"
   ]
  },
  {
   "cell_type": "code",
   "execution_count": 19,
   "metadata": {
    "collapsed": true
   },
   "outputs": [],
   "source": [
    "!ln -s f2 f1"
   ]
  },
  {
   "cell_type": "code",
   "execution_count": 20,
   "metadata": {
    "collapsed": false
   },
   "outputs": [
    {
     "name": "stdout",
     "output_type": "stream",
     "text": [
      "total 96\r\n",
      "-rw-r--r--  1 adwd  staff     29  1 14 23:23 README.md\r\n",
      "-rw-r--r--  1 adwd  staff   5200  1 14 23:02 ch_01-03.ipynb\r\n",
      "-rw-r--r--  1 adwd  staff   8910  1 14 23:09 ch_04.ipynb\r\n",
      "-rw-r--r--  1 adwd  staff  12342  1 15 18:43 ch_05.ipynb\r\n",
      "drwxr-xr-x  6 adwd  staff    204  1 15 16:59 \u001b[34mdir1\u001b[m\u001b[m\r\n",
      "drwxr-xr-x  5 adwd  staff    170  1 15 18:42 \u001b[34mdir3\u001b[m\u001b[m\r\n",
      "lrwxr-xr-x  1 adwd  staff      2  1 15 18:56 \u001b[35mf1\u001b[m\u001b[m -> f2\r\n",
      "-rw-r--r--  1 adwd  staff      6  1 15 18:56 f2\r\n",
      "drwxr-xr-x  3 adwd  staff    102  1 15 15:43 \u001b[34mwork\u001b[m\u001b[m\r\n"
     ]
    }
   ],
   "source": [
    "!ls -l"
   ]
  },
  {
   "cell_type": "code",
   "execution_count": null,
   "metadata": {
    "collapsed": true
   },
   "outputs": [],
   "source": [
    "# シンボリックリンクで深いディレクトリへリンクを作っておくとか、複数バージョンのプログラムをシンボリックリンクで管理すると便利"
   ]
  }
 ],
 "metadata": {
  "anaconda-cloud": {},
  "kernelspec": {
   "display_name": "Python [default]",
   "language": "python",
   "name": "python3"
  },
  "language_info": {
   "codemirror_mode": {
    "name": "ipython",
    "version": 3
   },
   "file_extension": ".py",
   "mimetype": "text/x-python",
   "name": "python",
   "nbconvert_exporter": "python",
   "pygments_lexer": "ipython3",
   "version": "3.5.2"
  }
 },
 "nbformat": 4,
 "nbformat_minor": 1
}
