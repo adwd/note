{
 "cells": [
  {
   "cell_type": "code",
   "execution_count": 2,
   "metadata": {
    "collapsed": false
   },
   "outputs": [
    {
     "name": "stdout",
     "output_type": "stream",
     "text": [
      "total 0\r\n",
      "drwxr-xr-x@   10 root  wheel    340  1  7 07:04 \u001b[34m.\u001b[m\u001b[m\r\n",
      "drwxr-xr-x    30 root  wheel   1088  1  7 07:03 \u001b[34m..\u001b[m\u001b[m\r\n",
      "drwxr-xr-x  1058 root  wheel  35972  1  7 07:04 \u001b[34mbin\u001b[m\u001b[m\r\n",
      "drwxr-xr-x   261 root  wheel   8874 12 14 22:56 \u001b[34minclude\u001b[m\u001b[m\r\n",
      "drwxr-xr-x   302 root  wheel  10268  1  7 07:04 \u001b[34mlib\u001b[m\u001b[m\r\n",
      "drwxr-xr-x   205 root  wheel   6970  1  7 07:04 \u001b[34mlibexec\u001b[m\u001b[m\r\n",
      "drwxr-xr-x    14 root  wheel    476 12 16 23:21 \u001b[34mlocal\u001b[m\u001b[m\r\n",
      "drwxr-xr-x   246 root  wheel   8364  1  7 07:04 \u001b[34msbin\u001b[m\u001b[m\r\n",
      "drwxr-xr-x    47 root  wheel   1598 12 14 22:57 \u001b[34mshare\u001b[m\u001b[m\r\n",
      "drwxr-xr-x     5 root  wheel    170 10 21 17:55 \u001b[34mstandalone\u001b[m\u001b[m\r\n"
     ]
    }
   ],
   "source": [
    "'''\n",
    "/bin  コマンドの実行ファイル\n",
    "/dev  デバイスファイル\n",
    "/etc  設定ファイル\n",
    "/home ユーザごとのホームディレクトリ\n",
    "/sbin 管理者ユーザ向けのコマンド\n",
    "/tmp  一時的なファイル、定期的に削除する設定になっているディストリビューションもある\n",
    "/usr  アプリケーションとそれに付随するファイル、サブディレクトリにbin,sbin,etcなどを持ちルートディレクトリ配下と似た構造\n",
    "/var  変化する(variable)データを置く、アプリケーションが作成するデータやログなど\n",
    "'''\n",
    "!ls -la /usr"
   ]
  },
  {
   "cell_type": "code",
   "execution_count": 3,
   "metadata": {
    "collapsed": false
   },
   "outputs": [
    {
     "name": "stdout",
     "output_type": "stream",
     "text": [
      "/Users/adwd/work/linux/new_text_of_linux\r\n"
     ]
    }
   ],
   "source": [
    "!pwd"
   ]
  },
  {
   "cell_type": "code",
   "execution_count": 8,
   "metadata": {
    "collapsed": true
   },
   "outputs": [],
   "source": [
    "!cd"
   ]
  },
  {
   "cell_type": "code",
   "execution_count": 9,
   "metadata": {
    "collapsed": false
   },
   "outputs": [
    {
     "name": "stdout",
     "output_type": "stream",
     "text": [
      "ch_01-03.ipynb ch_04.ipynb\r\n"
     ]
    }
   ],
   "source": [
    "!ls"
   ]
  },
  {
   "cell_type": "code",
   "execution_count": 10,
   "metadata": {
    "collapsed": true
   },
   "outputs": [],
   "source": [
    "!cd ~"
   ]
  },
  {
   "cell_type": "code",
   "execution_count": 21,
   "metadata": {
    "collapsed": true
   },
   "outputs": [],
   "source": [
    "# ~(チルダ)でホームディレクトリに移動できる。~がホームディレクトリ置き換えるシェルの機能をチルダ展開という。"
   ]
  },
  {
   "cell_type": "code",
   "execution_count": 23,
   "metadata": {
    "collapsed": false
   },
   "outputs": [
    {
     "name": "stdout",
     "output_type": "stream",
     "text": [
      "\u001b[34mgo\u001b[m\u001b[m         \u001b[34mjavascript\u001b[m\u001b[m \u001b[34mlinux\u001b[m\u001b[m      \u001b[34mpython\u001b[m\u001b[m     \u001b[34mreason\u001b[m\u001b[m     \u001b[34mrust\u001b[m\u001b[m       \u001b[34mserverless\u001b[m\u001b[m\r\n"
     ]
    }
   ],
   "source": [
    "!ls /Users/adwd/work"
   ]
  },
  {
   "cell_type": "code",
   "execution_count": 26,
   "metadata": {
    "collapsed": false
   },
   "outputs": [
    {
     "name": "stdout",
     "output_type": "stream",
     "text": [
      ".:\r\n",
      "ch_01-03.ipynb ch_04.ipynb\r\n",
      "\r\n",
      "..:\r\n",
      "\u001b[34mnew_text_of_linux\u001b[m\u001b[m\r\n"
     ]
    }
   ],
   "source": [
    "!ls . .."
   ]
  },
  {
   "cell_type": "code",
   "execution_count": 27,
   "metadata": {
    "collapsed": true
   },
   "outputs": [],
   "source": [
    "# パス名展開という機能がある。ワイルドカード展開やファイル名グロブとも呼ばれる。\n",
    "# * 任意の文字列\n",
    "# ? 任意の一文字"
   ]
  },
  {
   "cell_type": "code",
   "execution_count": 28,
   "metadata": {
    "collapsed": false
   },
   "outputs": [
    {
     "name": "stdout",
     "output_type": "stream",
     "text": [
      "ch_01-03.ipynb ch_04.ipynb\r\n"
     ]
    }
   ],
   "source": [
    "!ls ch*"
   ]
  },
  {
   "cell_type": "code",
   "execution_count": 29,
   "metadata": {
    "collapsed": false
   },
   "outputs": [
    {
     "name": "stdout",
     "output_type": "stream",
     "text": [
      "ch_01-03.ipynb ch_04.ipynb\r\n"
     ]
    }
   ],
   "source": [
    "!ls *.ipynb"
   ]
  },
  {
   "cell_type": "code",
   "execution_count": 30,
   "metadata": {
    "collapsed": false
   },
   "outputs": [
    {
     "name": "stdout",
     "output_type": "stream",
     "text": [
      "ch_04.ipynb\r\n"
     ]
    }
   ],
   "source": [
    "!ls ch_??.ipynb"
   ]
  },
  {
   "cell_type": "code",
   "execution_count": 31,
   "metadata": {
    "collapsed": false
   },
   "outputs": [
    {
     "name": "stdout",
     "output_type": "stream",
     "text": [
      "total 32\r\n",
      "-rw-r--r--  1 adwd  staff  5200  1 14 22:05 ch_01-03.ipynb\r\n",
      "-rw-r--r--  1 adwd  staff  5795  1 14 22:23 ch_04.ipynb\r\n"
     ]
    }
   ],
   "source": [
    "#ls -lオプション 属性などの詳細情報を表示する\n",
    "!ls -l"
   ]
  },
  {
   "cell_type": "code",
   "execution_count": null,
   "metadata": {
    "collapsed": false
   },
   "outputs": [],
   "source": [
    "'''\n",
    "lsの最初の1文字はファイルタイプ\n",
    "- 通常ファイル\n",
    "d ディレクトリ\n",
    "l シンボリックリンク\n",
    "'''"
   ]
  },
  {
   "cell_type": "code",
   "execution_count": 33,
   "metadata": {
    "collapsed": false
   },
   "outputs": [
    {
     "name": "stdout",
     "output_type": "stream",
     "text": [
      "\u001b[34m.\u001b[m\u001b[m                  \u001b[34m.ipynb_checkpoints\u001b[m\u001b[m ch_04.ipynb\r\n",
      "\u001b[34m..\u001b[m\u001b[m                 ch_01-03.ipynb\r\n"
     ]
    }
   ],
   "source": [
    "!ls -a"
   ]
  },
  {
   "cell_type": "code",
   "execution_count": 35,
   "metadata": {
    "collapsed": false
   },
   "outputs": [
    {
     "name": "stdout",
     "output_type": "stream",
     "text": [
      "\u001b[34m.\u001b[m\u001b[m/                  \u001b[34m.ipynb_checkpoints\u001b[m\u001b[m/ ch_04.ipynb\r\n",
      "\u001b[34m..\u001b[m\u001b[m/                 ch_01-03.ipynb\r\n"
     ]
    }
   ],
   "source": [
    "!ls -a -F"
   ]
  },
  {
   "cell_type": "code",
   "execution_count": 36,
   "metadata": {
    "collapsed": false
   },
   "outputs": [
    {
     "name": "stdout",
     "output_type": "stream",
     "text": [
      "\u001b[34m.\u001b[m\u001b[m/                  \u001b[34m.ipynb_checkpoints\u001b[m\u001b[m/ ch_04.ipynb\r\n",
      "\u001b[34m..\u001b[m\u001b[m/                 ch_01-03.ipynb\r\n"
     ]
    }
   ],
   "source": [
    "!ls -aF"
   ]
  },
  {
   "cell_type": "code",
   "execution_count": 37,
   "metadata": {
    "collapsed": false
   },
   "outputs": [
    {
     "name": "stdout",
     "output_type": "stream",
     "text": [
      ".:\r\n",
      "\u001b[34m.\u001b[m\u001b[m/                  \u001b[34m.ipynb_checkpoints\u001b[m\u001b[m/ ch_04.ipynb\r\n",
      "\u001b[34m..\u001b[m\u001b[m/                 ch_01-03.ipynb\r\n",
      "\r\n",
      "..:\r\n",
      "\u001b[34m.\u001b[m\u001b[m/                 \u001b[34m..\u001b[m\u001b[m/                \u001b[34mnew_text_of_linux\u001b[m\u001b[m/\r\n"
     ]
    }
   ],
   "source": [
    "!ls -aF . .."
   ]
  },
  {
   "cell_type": "code",
   "execution_count": 38,
   "metadata": {
    "collapsed": false
   },
   "outputs": [
    {
     "name": "stdout",
     "output_type": "stream",
     "text": [
      "ls: 30: No such file or directory\r\n"
     ]
    }
   ],
   "source": [
    "!ls -w 30"
   ]
  },
  {
   "cell_type": "code",
   "execution_count": null,
   "metadata": {
    "collapsed": true
   },
   "outputs": [],
   "source": [
    "# lsの-wと--quote-nameはMacOSにはないっぽい"
   ]
  }
 ],
 "metadata": {
  "kernelspec": {
   "display_name": "Python [default]",
   "language": "python",
   "name": "python3"
  },
  "language_info": {
   "codemirror_mode": {
    "name": "ipython",
    "version": 3
   },
   "file_extension": ".py",
   "mimetype": "text/x-python",
   "name": "python",
   "nbconvert_exporter": "python",
   "pygments_lexer": "ipython3",
   "version": "3.5.2"
  }
 },
 "nbformat": 4,
 "nbformat_minor": 1
}
